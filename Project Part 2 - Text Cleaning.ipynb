{
 "cells": [
  {
   "cell_type": "markdown",
   "metadata": {},
   "source": [
    "# Project Part 2: Text Cleaning \n",
    "\n",
    "One of the 1st steps in working with twitter text is to pre-process it. The most of text data is highly unstructured and noisy - to achieve better insights or to build better algorithms, it is necessary to play with clean data. \n",
    "\n",
    "The possible noise elements that should be removed as follows: \n",
    "\n",
    "\n",
    "- Decoding data: transforming information from complex symbols to simple and easier to understand characters (i.e., UTF-8 encoding is widely accepted and is recommended to use)\n",
    "- HTML characters: it looks like the data obtained from web usually contains a lot of html entities such as &amp in the text field, which should be removed\n",
    "- URLs: URLs and hyperlinks in text data like comments, reviews, and tweets should be removed\n",
    "- Emoticons: textual data can contain facial expression using characters. This information doesn't add value to build sentiment analysis model\n",
    "- @mention: same with emoticons, even though it carries some information, for sentiment analysis purpose, this can be ignored\n",
    "- Hash-tags: leave the text intact and just remove the '#'\n",
    "- Stop-words: the commonly occurring words such as 'a', 'the', 'it', 'to' should be removed. One can either create a long list of stop-words or one can use predefined language specific libraries\n",
    "- Split: check if there's any contracted or negated term i.e., 'isn't', and replace it with its original form\n",
    "\n",
    "Examples can be found as follows. "
   ]
  },
  {
   "cell_type": "markdown",
   "metadata": {},
   "source": [
    "## Text Cleaning : Removal of Stop-words"
   ]
  },
  {
   "cell_type": "code",
   "execution_count": 2,
   "metadata": {},
   "outputs": [],
   "source": [
    "pd.set_option('display.max_colwidth', -1)"
   ]
  },
  {
   "cell_type": "code",
   "execution_count": 3,
   "metadata": {},
   "outputs": [
    {
     "name": "stdout",
     "output_type": "stream",
     "text": [
      "0    Countdown to @ChampionsLeague 2018 Final in Kyiv, Russia. @LFC vs @realmadrid #YNWA #6DaysToGo https://t.co/Ixx0jnPdNy\n",
      "Name: text, dtype: object\n",
      "0    Countdown @ChampionsLeague 2018 Final Kyiv, Russia. @LFC vs @realmadrid #YNWA #6DaysToGo https://t.co/Ixx0jnPdNy\n",
      "Name: text, dtype: object\n"
     ]
    }
   ],
   "source": [
    "df = pd.read_csv('madrid_df.csv')\n",
    "test_text = df['text'][:1]\n",
    "\n",
    "from nltk.corpus import stopwords\n",
    "import string\n",
    "replace_set = stopwords.words('english')\n",
    "no_stopwords = test_text.str.split(' ').apply(lambda x: ' '.join(k for k in x if k not in replace_set))\n",
    "\n",
    "print test_text\n",
    "print no_stopwords"
   ]
  },
  {
   "cell_type": "markdown",
   "metadata": {},
   "source": [
    "## Text Cleaning : Decoding and Escaping HTML "
   ]
  },
  {
   "cell_type": "code",
   "execution_count": 5,
   "metadata": {},
   "outputs": [
    {
     "name": "stdout",
     "output_type": "stream",
     "text": [
      "Have a read of the latest Q&amp;A from @_Chris_Hurst_ on @LiverpoolFCHQ_ 🔴🇺🇦 https://t.co/VlAFdgPy4s\n",
      "Have a read of the latest Q&A from @_Chris_Hurst_ on @LiverpoolFCHQ_  https://t.co/VlAFdgPy4s\n"
     ]
    }
   ],
   "source": [
    "test_text2 = df['text'][83]\n",
    "print(test_text2)\n",
    "test_text2_decoding = test_text2.decode(\"utf8\").encode('ascii','ignore')\n",
    "\n",
    "import HTMLParser\n",
    "html_parser = HTMLParser.HTMLParser()\n",
    "no_html = html_parser.unescape(test_text2_decoding)\n",
    "print(no_html)"
   ]
  },
  {
   "cell_type": "markdown",
   "metadata": {},
   "source": [
    "## Text Cleaning : URL links"
   ]
  },
  {
   "cell_type": "code",
   "execution_count": 6,
   "metadata": {},
   "outputs": [
    {
     "name": "stdout",
     "output_type": "stream",
     "text": [
      "Have a read of the latest Q&A from @_Chris_Hurst_ on @LiverpoolFCHQ_  \n"
     ]
    }
   ],
   "source": [
    "import re\n",
    "\n",
    "no_urls = re.sub(r'http[s]?://(?:[a-z]|[0-9]|[$-_@.&amp;+]|[!*\\(\\),]|(?:%[0-9a-f][0-9a-f]))+','',no_html)\n",
    "print(no_urls)"
   ]
  },
  {
   "cell_type": "markdown",
   "metadata": {},
   "source": [
    "## Text Cleaning : @mention"
   ]
  },
  {
   "cell_type": "code",
   "execution_count": null,
   "metadata": {},
   "outputs": [],
   "source": [
    "no_atmention = re.sub(r'@[\\w_]+','', no_urls)\n",
    "print(no_atmention)"
   ]
  },
  {
   "cell_type": "markdown",
   "metadata": {},
   "source": [
    "## Text Cleaning : Emoticons"
   ]
  },
  {
   "cell_type": "code",
   "execution_count": 7,
   "metadata": {},
   "outputs": [
    {
     "name": "stdout",
     "output_type": "stream",
     "text": [
      "@socraticjuan How could @realmadrid do that atrocity to @IkerCasillas i feel sorry for him 😠😠😢😢\n"
     ]
    },
    {
     "data": {
      "text/plain": [
       "'@socraticjuan How could @realmadrid do that atrocity to @IkerCasillas i feel sorry for him \\xf0\\x9f\\x98\\xa0\\xf0\\x9f\\x98\\xa0\\xf0\\x9f\\x98\\xa2\\xf0\\x9f\\x98\\xa2'"
      ]
     },
     "execution_count": 7,
     "metadata": {},
     "output_type": "execute_result"
    }
   ],
   "source": [
    "test_text3 = df['text'][11]\n",
    "print(test_text3)\n",
    "\n",
    "re.sub(r'[:=;] [oO\\-]?[D\\)\\]\\(\\]/\\\\OpP]', '', test_text3)"
   ]
  },
  {
   "cell_type": "markdown",
   "metadata": {},
   "source": [
    "## Defining Text Cleaning Function"
   ]
  },
  {
   "cell_type": "markdown",
   "metadata": {},
   "source": [
    "Now definding a function for text cleaning and apply to the whole dataset. Tokenization, stemming/lemmatization will be dealt with later stage when creating matrix with either count vectorizer or Tfidf vectorizer."
   ]
  },
  {
   "cell_type": "code",
   "execution_count": 8,
   "metadata": {},
   "outputs": [
    {
     "data": {
      "text/plain": [
       "0    Countdown to @ChampionsLeague 2018 Final in Kyiv, Russia. @LFC vs @realmadrid #YNWA #6DaysToGo https://t.co/Ixx0jnPdNy                      \n",
       "1    ¡@Cristiano llega a los 4⃣5⃣0⃣ goles con el @realmadrid! 💥 https://t.co/YHfrJ3E6B3                                                         \n",
       "2    ¡@Cristiano llega a los 4⃣5⃣0⃣ goles con el @realmadrid ! 💥 https://t.co/NTLogiPwl1                                                        \n",
       "3    Well, @realmadrid ended this seasons @LaLiga campaign the same way they started it, shitty. I just hope that Zidane… https://t.co/zGxANmIWu7\n",
       "4    @BleacherReport @Cristiano @realmadrid Yall late https://t.co/psBUG5iAdB                                                                    \n",
       "Name: text, dtype: object"
      ]
     },
     "execution_count": 8,
     "metadata": {},
     "output_type": "execute_result"
    }
   ],
   "source": [
    "df_madrid = pd.read_csv('madrid_df.csv')\n",
    "demo = df_madrid['text'][:5] # demo testing with 10 texts \n",
    "demo"
   ]
  },
  {
   "cell_type": "code",
   "execution_count": 9,
   "metadata": {},
   "outputs": [
    {
     "name": "stderr",
     "output_type": "stream",
     "text": [
      "C:\\Users\\yaffy\\Anaconda2\\lib\\site-packages\\ipykernel_launcher.py:2: UnicodeWarning: Unicode equal comparison failed to convert both arguments to Unicode - interpreting them as being unequal\n",
      "  \n"
     ]
    },
    {
     "data": {
      "text/plain": [
       "0    Countdown @ChampionsLeague 2018 Final Kyiv, Russia. @LFC vs @realmadrid #YNWA #6DaysToGo https://t.co/Ixx0jnPdNy\n",
       "1    ¡@Cristiano llega los 4⃣5⃣0⃣ goles con el @realmadrid! 💥 https://t.co/YHfrJ3E6B3                               \n",
       "2    ¡@Cristiano llega los 4⃣5⃣0⃣ goles con el @realmadrid ! 💥 https://t.co/NTLogiPwl1                              \n",
       "3    Well, @realmadrid ended seasons @LaLiga campaign way started it, shitty. I hope Zidane… https://t.co/zGxANmIWu7 \n",
       "4    @BleacherReport @Cristiano @realmadrid Yall late https://t.co/psBUG5iAdB                                        \n",
       "Name: text, dtype: object"
      ]
     },
     "execution_count": 9,
     "metadata": {},
     "output_type": "execute_result"
    }
   ],
   "source": [
    "replace_set = stopwords.words('english') \n",
    "demo = demo.str.split(' ').apply(lambda x: ' '.join(k for k in x if k not in replace_set)) # texts with no stop-words\n",
    "demo"
   ]
  },
  {
   "cell_type": "markdown",
   "metadata": {},
   "source": [
    "Splitting terms with contraction and negation "
   ]
  },
  {
   "cell_type": "code",
   "execution_count": 11,
   "metadata": {},
   "outputs": [],
   "source": [
    "split_dic = {\"ain't\": \"is not\", \"aren't\": \"are not\",\"can't\": \"cannot\", \n",
    "             \"can't've\": \"cannot have\", \"'cause\": \"because\", \"could've\": \"could have\", \n",
    "             \"couldn't\": \"could not\", \"couldn't've\": \"could not have\",\"didn't\": \"did not\", \n",
    "             \"doesn't\": \"does not\", \"don't\": \"do not\", \"hadn't\": \"had not\",  \n",
    "             \"hadn't've\": \"had not have\", \"hasn't\": \"has not\", \"haven't\": \"have not\", \n",
    "             \"he'd\": \"he would\", \"he'd've\": \"he would have\", \"he'll\": \"he will\", \n",
    "             \"he'll've\": \"he will have\", \"he's\": \"he is\", \"how'd\": \"how did\", \n",
    "             \"how'd'y\": \"how do you\", \"how'll\": \"how will\", \"how's\": \"how is\", \n",
    "             \"I'd\": \"I would\", \"I'd've\": \"I would have\", \"I'll\": \"I will\", \n",
    "             \"I'll've\": \"I will have\",\"I'm\": \"I am\", \"I've\": \"I have\", \n",
    "             \"i'd\": \"i would\", \"i'd've\": \"i would have\", \"i'll\": \"i will\", \n",
    "             \"i'll've\": \"i will have\",\"i'm\": \"i am\", \"i've\": \"i have\", \n",
    "             \"isn't\": \"is not\", \"it'd\": \"it would\", \"it'd've\": \"it would have\", \n",
    "             \"it'll\": \"it will\", \"it'll've\": \"it will have\",\"it's\": \"it is\", \n",
    "             \"let's\": \"let us\", \"ma'am\": \"madam\", \"mayn't\": \"may not\", \n",
    "             \"might've\": \"might have\",\"mightn't\": \"might not\",\"mightn't've\": \"might not have\", \n",
    "             \"must've\": \"must have\", \"mustn't\": \"must not\", \"mustn't've\": \"must not have\", \n",
    "             \"needn't\": \"need not\", \"needn't've\": \"need not have\",\"o'clock\": \"of the clock\", \n",
    "             \"oughtn't\": \"ought not\", \"oughtn't've\": \"ought not have\", \"shan't\": \"shall not\",\n",
    "             \"sha'n't\": \"shall not\", \"shan't've\": \"shall not have\", \"she'd\": \"she would\", \n",
    "             \"she'd've\": \"she would have\", \"she'll\": \"she will\", \"she'll've\": \"she will have\", \n",
    "             \"she's\": \"she is\", \"should've\": \"should have\", \"shouldn't\": \"should not\", \n",
    "             \"shouldn't've\": \"should not have\", \"so've\": \"so have\",\"so's\": \"so as\", \n",
    "             \"this's\": \"this is\",\n",
    "             \"that'd\": \"that would\", \"that'd've\": \"that would have\",\"that's\": \"that is\", \n",
    "             \"there'd\": \"there would\", \"there'd've\": \"there would have\",\"there's\": \"there is\", \n",
    "             \"here's\": \"here is\",\n",
    "             \"they'd\": \"they would\", \"they'd've\": \"they would have\", \"they'll\": \"they will\", \n",
    "             \"they'll've\": \"they will have\", \"they're\": \"they are\", \"they've\": \"they have\",\n",
    "             \"to've\": \"to have\", \"wasn't\": \"was not\", \"we'd\": \"we would\", \n",
    "             \"we'd've\": \"we would have\", \"we'll\": \"we will\", \"we'll've\": \"we will have\", \n",
    "             \"we're\": \"we are\", \"we've\": \"we have\", \"weren't\": \"were not\",\n",
    "             \"what'll\": \"what will\", \"what'll've\": \"what will have\", \"what're\": \"what are\", \n",
    "             \"what's\": \"what is\", \"what've\": \"what have\", \"when's\": \"when is\", \n",
    "             \"when've\": \"when have\", \"where'd\": \"where did\", \"where's\": \"where is\", \n",
    "             \"where've\": \"where have\", \"who'll\": \"who will\", \"who'll've\": \"who will have\", \n",
    "             \"who's\": \"who is\", \"who've\": \"who have\", \"why's\": \"why is\", \n",
    "             \"why've\": \"why have\", \"will've\": \"will have\", \"won't\": \"will not\",\n",
    "             \"won't've\": \"will not have\", \"would've\": \"would have\", \"wouldn't\": \"would not\", \n",
    "             \"wouldn't've\": \"would not have\", \"y'all\": \"you all\", \"y'all'd\": \"you all would\",\n",
    "             \"y'all'd've\": \"you all would have\",\"y'all're\": \"you all are\",\"y'all've\": \"you all have\",\n",
    "             \"you'd\": \"you would\", \"you'd've\": \"you would have\", \"you'll\": \"you will\", \n",
    "             \"you'll've\": \"you will have\", \"you're\": \"you are\", \"you've\": \"you have\" }"
   ]
  },
  {
   "cell_type": "code",
   "execution_count": 12,
   "metadata": {},
   "outputs": [
    {
     "name": "stderr",
     "output_type": "stream",
     "text": [
      "C:\\Users\\yaffy\\Anaconda2\\lib\\encodings\\utf_8_sig.py:19: UnicodeWarning: Unicode equal comparison failed to convert both arguments to Unicode - interpreting them as being unequal\n",
      "  if input[:3] == codecs.BOM_UTF8:\n"
     ]
    },
    {
     "data": {
      "text/plain": [
       "[u'countdown final kyiv russia vs',\n",
       " u'llega los goles con el',\n",
       " u'llega los goles con el',\n",
       " u'well ended seasons campaign way started it shitty hope zidane',\n",
       " u'yall late']"
      ]
     },
     "execution_count": 12,
     "metadata": {},
     "output_type": "execute_result"
    }
   ],
   "source": [
    "from nltk.tokenize import WordPunctTokenizer\n",
    "from nltk.tokenize import word_tokenize\n",
    "import re\n",
    "from bs4 import BeautifulSoup\n",
    "\n",
    "tok = WordPunctTokenizer()\n",
    "\n",
    "pat1 = r'@[\\w_]+' # @-mention\n",
    "pat2 = r'http[s]?://(?:[a-z]|[0-9]|[$-_@.&amp;+]|[!*\\(\\),]|(?:%[0-9a-f][0-9a-f]))+' # URLs\n",
    "pat3 = r'[:=;] [oO\\-]?[D\\)\\]\\(\\]/\\\\OpP]' # emoticons\n",
    "pat4 = r'(?:\\#+[\\w_]+[\\w\\'_\\-]*[\\w_]+)' # hash-tags\n",
    "pat5 = r'www.[^ ]+' # additions to URLs, texts with 'www..'\n",
    "combined_pat = r'|'.join((pat1, pat2, pat3,pat4,pat5))\n",
    "\n",
    "\n",
    "split_pattern = re.compile(r'\\b(' + '|'.join(split_dic.keys()) + r')\\b')\n",
    "\n",
    "\n",
    "def tweet_cleaner(demo):\n",
    "    soup = BeautifulSoup(demo, 'lxml') # HTML\n",
    "    souped = soup.get_text()\n",
    "    try:\n",
    "        clean = souped.decode(\"utf-8-sig\").replace(u\"\\ufffd\", \"?\")\n",
    "        # decoding text with 'utf-8-sig'\n",
    "    except:\n",
    "        clean = souped\n",
    "    \n",
    "    stripped = re.sub(combined_pat, '', clean)\n",
    "    lower_case = stripped.lower()\n",
    "    split_handled = split_pattern.sub(lambda x: split_dic[x.group()], lower_case)\n",
    "    letters_only = re.sub(\"[^a-zA-Z]\", \" \", split_handled)\n",
    "    spell_corrected = re.sub(r'(.)\\1+', r'\\1\\1', letters_only)\n",
    "    # check if there's any spell with repeated characters such as 'soooo good', and transform it as 'soo good' or 'loove it'. Not a perfect solution but could reduct feature space by making\n",
    "    words = [x for x in tok.tokenize(spell_corrected) if len(x) > 1]\n",
    "\n",
    "    return (\" \".join(words)).strip()\n",
    "\n",
    "test_result = []\n",
    "for t in demo:\n",
    "    test_result.append(tweet_cleaner(t))\n",
    "    # [tweet_cleaner(t) for t in demo]\n",
    "\n",
    "test_result # cleaning texts"
   ]
  },
  {
   "cell_type": "markdown",
   "metadata": {},
   "source": [
    "## Apply Text Cleaning Function to Tweets"
   ]
  },
  {
   "cell_type": "code",
   "execution_count": 13,
   "metadata": {},
   "outputs": [
    {
     "name": "stderr",
     "output_type": "stream",
     "text": [
      "C:\\Users\\yaffy\\Anaconda2\\lib\\site-packages\\ipykernel_launcher.py:3: UnicodeWarning: Unicode equal comparison failed to convert both arguments to Unicode - interpreting them as being unequal\n",
      "  This is separate from the ipykernel package so we can avoid doing imports until\n"
     ]
    }
   ],
   "source": [
    "df_madrid = pd.read_csv('madrid_df.csv')\n",
    "replace_set = stopwords.words('english') \n",
    "df_madrid['text'] = df_madrid['text'].str.split(' ').apply(lambda x: ' '.join(k for k in x if k not in replace_set)) # replace stop-words"
   ]
  },
  {
   "cell_type": "code",
   "execution_count": 14,
   "metadata": {},
   "outputs": [
    {
     "name": "stderr",
     "output_type": "stream",
     "text": [
      "C:\\Users\\yaffy\\Anaconda2\\lib\\site-packages\\bs4\\__init__.py:282: UserWarning: \"https://t.co/oEJ7354EcO\" looks like a URL. Beautiful Soup is not an HTTP client. You should probably use an HTTP client like requests to get the document behind the URL, and feed that document to Beautiful Soup.\n",
      "  ' that document to Beautiful Soup.' % decoded_markup\n",
      "C:\\Users\\yaffy\\Anaconda2\\lib\\site-packages\\bs4\\__init__.py:282: UserWarning: \"https://t.co/NZGnT2XvKu\" looks like a URL. Beautiful Soup is not an HTTP client. You should probably use an HTTP client like requests to get the document behind the URL, and feed that document to Beautiful Soup.\n",
      "  ' that document to Beautiful Soup.' % decoded_markup\n",
      "C:\\Users\\yaffy\\Anaconda2\\lib\\site-packages\\bs4\\__init__.py:282: UserWarning: \"https://t.co/GOs8YOaLFe\" looks like a URL. Beautiful Soup is not an HTTP client. You should probably use an HTTP client like requests to get the document behind the URL, and feed that document to Beautiful Soup.\n",
      "  ' that document to Beautiful Soup.' % decoded_markup\n"
     ]
    }
   ],
   "source": [
    "df_madrid['clean_text'] = [tweet_cleaner(t) for t in df_madrid.text]"
   ]
  },
  {
   "cell_type": "markdown",
   "metadata": {},
   "source": [
    "After cleaning the tweets with cleaner function, I create a new dataframe with clean text and certain columns that will be used in the further analysis"
   ]
  },
  {
   "cell_type": "code",
   "execution_count": 15,
   "metadata": {},
   "outputs": [],
   "source": [
    "col_to_drop = ['text', 'extended_tweet','ideo_score', 'friends', 'followers', 'listed', 'screen_name', 'id', 'name']\n",
    "clean_madrid = df_madrid.drop(col_to_drop, axis=1)"
   ]
  },
  {
   "cell_type": "markdown",
   "metadata": {},
   "source": [
    "3,777 entries have null entries for the clean_text column. Looking at the original dataframe, those texts either with Twitter ID or URL address are identified as NaN. These are the info I decide to discard for the sentiment analysis, so I will drop these null rows, and update the data frame."
   ]
  },
  {
   "cell_type": "code",
   "execution_count": 16,
   "metadata": {},
   "outputs": [
    {
     "name": "stdout",
     "output_type": "stream",
     "text": [
      "3777\n"
     ]
    },
    {
     "data": {
      "text/html": [
       "<div>\n",
       "<style scoped>\n",
       "    .dataframe tbody tr th:only-of-type {\n",
       "        vertical-align: middle;\n",
       "    }\n",
       "\n",
       "    .dataframe tbody tr th {\n",
       "        vertical-align: top;\n",
       "    }\n",
       "\n",
       "    .dataframe thead th {\n",
       "        text-align: right;\n",
       "    }\n",
       "</style>\n",
       "<table border=\"1\" class=\"dataframe\">\n",
       "  <thead>\n",
       "    <tr style=\"text-align: right;\">\n",
       "      <th></th>\n",
       "      <th>created_at</th>\n",
       "      <th>name</th>\n",
       "      <th>screen_name</th>\n",
       "      <th>id</th>\n",
       "      <th>friends</th>\n",
       "      <th>followers</th>\n",
       "      <th>listed</th>\n",
       "      <th>text</th>\n",
       "      <th>extended_tweet</th>\n",
       "      <th>ideo_score</th>\n",
       "      <th>clean_text</th>\n",
       "    </tr>\n",
       "  </thead>\n",
       "  <tbody>\n",
       "    <tr>\n",
       "      <th>10</th>\n",
       "      <td>Mon May 21 05:26:15 +0000 2018</td>\n",
       "      <td>Gerson Arce</td>\n",
       "      <td>19gerson</td>\n",
       "      <td>463365631.0</td>\n",
       "      <td>675</td>\n",
       "      <td>786</td>\n",
       "      <td>3</td>\n",
       "      <td>E L C O M A N D A N T E\\r\\r\\r\\n4⃣5⃣0⃣⚽ https://t.co/0NHlSdQLp9</td>\n",
       "      <td>NaN</td>\n",
       "      <td>NaN</td>\n",
       "      <td></td>\n",
       "    </tr>\n",
       "    <tr>\n",
       "      <th>13</th>\n",
       "      <td>Mon May 21 06:21:00 +0000 2018</td>\n",
       "      <td>Rana Ghosal</td>\n",
       "      <td>ranaaissance</td>\n",
       "      <td>56296160.0</td>\n",
       "      <td>532</td>\n",
       "      <td>456</td>\n",
       "      <td>46</td>\n",
       "      <td>@kingpatprash @ChampionsLeague @realmadrid @LFC @sportmarketing1 @Sports_Managing @kennethcortsen @AJKarg… https://t.co/gFIrSNuPJJ</td>\n",
       "      <td>{u'display_text_range': [133, 162], u'entities': {u'user_mentions': [{u'indices': [0, 13], u'screen_name': u'kingpatprash', u'id': 350920112, u'name': u'Prashant Pathare', u'id_str': u'350920112'}, {u'indices': [14, 30], u'screen_name': u'ChampionsLeague', u'id': 627673190, u'name': u'UEFA Champions League', u'id_str': u'627673190'}, {u'indices': [31, 42], u'screen_name': u'realmadrid', u'id': 14872237, u'name': u'Real Madrid C.F. \\u26bd\\ufe0f', u'id_str': u'14872237'}, {u'indices': [43, 47], u'screen_name': u'LFC', u'id': 19583545, u'name': u'Liverpool FC', u'id_str': u'19583545'}, {u'indices': [48, 64], u'screen_name': u'sportmarketing1', u'id': 27426996, u'name': u'alan seymour', u'id_str': u'27426996'}, {u'indices': [65, 81], u'screen_name': u'Sports_Managing', u'id': 873554509037015040L, u'name': u'\\xd3scar Y\\xe1\\xf1ez', u'id_str': u'873554509037015040'}, {u'indices': [82, 97], u'screen_name': u'kennethcortsen', u'id': 24509215, u'name': u'Kenneth Cortsen', u'id_str': u'24509215'}, {u'indices': [98, 105], u'screen_name': u'AJKarg', u'id': 28756684, u'name': u'Adam Karg', u'id_str': u'28756684'}, {u'indices': [106, 121], u'screen_name': u'geoffwnjwilson', u'id': 109710458, u'name': u'Geoff Wilson', u'id_str': u'109710458'}, {u'indices': [122, 132], u'screen_name': u'Lu_Class_', u'id': 2955644493L, u'name': u'\\u0141ukasz B\\u0105czek', u'id_str': u'2955644493'}], u'symbols': [], u'hashtags': [], u'urls': []}, u'full_text': u'@kingpatprash @ChampionsLeague @realmadrid @LFC @sportmarketing1 @Sports_Managing @kennethcortsen @AJKarg @geoffwnjwilson @Lu_Class_ Very interesting. Optimistic?'}</td>\n",
       "      <td>NaN</td>\n",
       "      <td></td>\n",
       "    </tr>\n",
       "    <tr>\n",
       "      <th>16</th>\n",
       "      <td>Mon May 21 07:06:58 +0000 2018</td>\n",
       "      <td>Sebastian Yuen ツ</td>\n",
       "      <td>S3bster</td>\n",
       "      <td>37780157.0</td>\n",
       "      <td>3136</td>\n",
       "      <td>3398</td>\n",
       "      <td>93</td>\n",
       "      <td>@boltyboy @Health2eu @bluetopaz @himsseurope @ChampionsLeague @lucienengelen @pascal_lardier @anoizet @janedwelly… https://t.co/5AWVfVgYyy</td>\n",
       "      <td>{u'display_text_range': [196, 339], u'entities': {u'user_mentions': [{u'indices': [0, 9], u'screen_name': u'boltyboy', u'id': 1248081, u'name': u'Matthew Holt', u'id_str': u'1248081'}, {u'indices': [10, 20], u'screen_name': u'Health2eu', u'id': 221140787, u'name': u'Health 2.0 Europe', u'id_str': u'221140787'}, {u'indices': [21, 31], u'screen_name': u'bluetopaz', u'id': 1073381, u'name': u'Indu Subaiya', u'id_str': u'1073381'}, {u'indices': [32, 44], u'screen_name': u'himsseurope', u'id': 132204567, u'name': u'HIMSS Europe', u'id_str': u'132204567'}, {u'indices': [45, 61], u'screen_name': u'ChampionsLeague', u'id': 627673190, u'name': u'UEFA Champions League', u'id_str': u'627673190'}, {u'indices': [62, 76], u'screen_name': u'lucienengelen', u'id': 15123270, u'name': u'Lucien Engelen', u'id_str': u'15123270'}, {u'indices': [77, 92], u'screen_name': u'pascal_lardier', u'id': 78607265, u'name': u'Pascal Lardier', u'id_str': u'78607265'}, {u'indices': [93, 101], u'screen_name': u'anoizet', u'id': 312960789, u'name': u'Aline Noizet', u'id_str': u'312960789'}, {u'indices': [102, 113], u'screen_name': u'janedwelly', u'id': 108297471, u'name': u'Jane Dwelly', u'id_str': u'108297471'}, {u'indices': [114, 130], u'screen_name': u'Barry_HealthTec', u'id': 44844855, u'name': u'Barry Shrier', u'id_str': u'44844855'}, {u'indices': [131, 144], u'screen_name': u'HealthEugene', u'id': 16139549, u'name': u'Eugene Borukhovich', u'id_str': u'16139549'}, {u'indices': [145, 158], u'screen_name': u'chrispointon', u'id': 28578944, u'name': u'Chris Pointon', u'id_str': u'28578944'}, {u'indices': [159, 170], u'screen_name': u'Anniecoops', u'id': 20327119, u'name': u'Anne Cooper RN FQNI', u'id_str': u'20327119'}, {u'indices': [171, 181], u'screen_name': u'MarkDuman', u'id': 612922732, u'name': u'Mark Duman', u'id_str': u'612922732'}, {u'indices': [182, 195], u'screen_name': u'IndraJoshi10', u'id': 4876080779L, u'name': u'Indra Joshi', u'id_str': u'4876080779'}, {u'indices': [196, 212], u'screen_name': u'ChampionsLeague', u'id': 627673190, u'name': u'UEFA Champions League', u'id_str': u'627673190'}, {u'indices': [228, 232], u'screen_name': u'LFC', u'id': 19583545, u'name': u'Liverpool FC', u'id_str': u'19583545'}, {u'indices': [236, 247], u'screen_name': u'realmadrid', u'id': 14872237, u'name': u'Real Madrid C.F. \\u26bd\\ufe0f', u'id_str': u'14872237'}], u'symbols': [], u'hashtags': [{u'indices': [327, 337], u'text': u'PinkSocks'}], u'urls': []}, u'full_text': u'@boltyboy @Health2eu @bluetopaz @himsseurope @ChampionsLeague @lucienengelen @pascal_lardier @anoizet @janedwelly @Barry_HealthTec @HealthEugene @chrispointon @Anniecoops @MarkDuman @IndraJoshi10 @ChampionsLeague Final features @LFC vs @realmadrid! Who will locals in Barcelona support? \\r\\r\\r\\n\\r\\r\\r\\nAny hotel tips? \\r\\r\\r\\n\\r\\r\\r\\nWill be bringing my #PinkSocks!!'}</td>\n",
       "      <td>NaN</td>\n",
       "      <td></td>\n",
       "    </tr>\n",
       "    <tr>\n",
       "      <th>18</th>\n",
       "      <td>Mon May 21 07:08:42 +0000 2018</td>\n",
       "      <td>Health 2.0 Europe</td>\n",
       "      <td>Health2eu</td>\n",
       "      <td>221140787.0</td>\n",
       "      <td>649</td>\n",
       "      <td>6188</td>\n",
       "      <td>455</td>\n",
       "      <td>@S3bster @boltyboy @bluetopaz @himsseurope @ChampionsLeague @lucienengelen @pascal_lardier @anoizet @janedwelly… https://t.co/ABm9ydxpR4</td>\n",
       "      <td>{u'display_text_range': [211, 273], u'entities': {u'user_mentions': [{u'indices': [0, 8], u'screen_name': u'S3bster', u'id': 37780157, u'name': u'Sebastian Yuen \\u30c4', u'id_str': u'37780157'}, {u'indices': [9, 18], u'screen_name': u'boltyboy', u'id': 1248081, u'name': u'Matthew Holt', u'id_str': u'1248081'}, {u'indices': [19, 29], u'screen_name': u'bluetopaz', u'id': 1073381, u'name': u'Indu Subaiya', u'id_str': u'1073381'}, {u'indices': [30, 42], u'screen_name': u'himsseurope', u'id': 132204567, u'name': u'HIMSS Europe', u'id_str': u'132204567'}, {u'indices': [43, 59], u'screen_name': u'ChampionsLeague', u'id': 627673190, u'name': u'UEFA Champions League', u'id_str': u'627673190'}, {u'indices': [60, 74], u'screen_name': u'lucienengelen', u'id': 15123270, u'name': u'Lucien Engelen', u'id_str': u'15123270'}, {u'indices': [75, 90], u'screen_name': u'pascal_lardier', u'id': 78607265, u'name': u'Pascal Lardier', u'id_str': u'78607265'}, {u'indices': [91, 99], u'screen_name': u'anoizet', u'id': 312960789, u'name': u'Aline Noizet', u'id_str': u'312960789'}, {u'indices': [100, 111], u'screen_name': u'janedwelly', u'id': 108297471, u'name': u'Jane Dwelly', u'id_str': u'108297471'}, {u'indices': [112, 128], u'screen_name': u'Barry_HealthTec', u'id': 44844855, u'name': u'Barry Shrier', u'id_str': u'44844855'}, {u'indices': [129, 142], u'screen_name': u'HealthEugene', u'id': 16139549, u'name': u'Eugene Borukhovich', u'id_str': u'16139549'}, {u'indices': [143, 156], u'screen_name': u'chrispointon', u'id': 28578944, u'name': u'Chris Pointon', u'id_str': u'28578944'}, {u'indices': [157, 168], u'screen_name': u'Anniecoops', u'id': 20327119, u'name': u'Anne Cooper RN FQNI', u'id_str': u'20327119'}, {u'indices': [169, 179], u'screen_name': u'MarkDuman', u'id': 612922732, u'name': u'Mark Duman', u'id_str': u'612922732'}, {u'indices': [180, 193], u'screen_name': u'IndraJoshi10', u'id': 4876080779L, u'name': u'Indra Joshi', u'id_str': u'4876080779'}, {u'indices': [194, 198], u'screen_name': u'LFC', u'id': 19583545, u'name': u'Liverpool FC', u'id_str': u'19583545'}, {u'indices': [199, 210], u'screen_name': u'realmadrid', u'id': 14872237, u'name': u'Real Madrid C.F. \\u26bd\\ufe0f', u'id_str': u'14872237'}], u'symbols': [], u'hashtags': [], u'urls': []}, u'full_text': u'@S3bster @boltyboy @bluetopaz @himsseurope @ChampionsLeague @lucienengelen @pascal_lardier @anoizet @janedwelly @Barry_HealthTec @HealthEugene @chrispointon @Anniecoops @MarkDuman @IndraJoshi10 @LFC @realmadrid I would try an airbnb :) most hotels are running low on rooms!'}</td>\n",
       "      <td>NaN</td>\n",
       "      <td></td>\n",
       "    </tr>\n",
       "    <tr>\n",
       "      <th>19</th>\n",
       "      <td>Mon May 21 07:16:37 +0000 2018</td>\n",
       "      <td>Sebastian Yuen ツ</td>\n",
       "      <td>S3bster</td>\n",
       "      <td>37780157.0</td>\n",
       "      <td>3136</td>\n",
       "      <td>3396</td>\n",
       "      <td>93</td>\n",
       "      <td>@Health2eu @boltyboy @bluetopaz @himsseurope @ChampionsLeague @lucienengelen @pascal_lardier @anoizet @janedwelly… https://t.co/stSG9iJKBA</td>\n",
       "      <td>{u'display_text_range': [213, 242], u'entities': {u'user_mentions': [{u'indices': [0, 10], u'screen_name': u'Health2eu', u'id': 221140787, u'name': u'Health 2.0 Europe', u'id_str': u'221140787'}, {u'indices': [11, 20], u'screen_name': u'boltyboy', u'id': 1248081, u'name': u'Matthew Holt', u'id_str': u'1248081'}, {u'indices': [21, 31], u'screen_name': u'bluetopaz', u'id': 1073381, u'name': u'Indu Subaiya', u'id_str': u'1073381'}, {u'indices': [32, 44], u'screen_name': u'himsseurope', u'id': 132204567, u'name': u'HIMSS Europe', u'id_str': u'132204567'}, {u'indices': [45, 61], u'screen_name': u'ChampionsLeague', u'id': 627673190, u'name': u'UEFA Champions League', u'id_str': u'627673190'}, {u'indices': [62, 76], u'screen_name': u'lucienengelen', u'id': 15123270, u'name': u'Lucien Engelen', u'id_str': u'15123270'}, {u'indices': [77, 92], u'screen_name': u'pascal_lardier', u'id': 78607265, u'name': u'Pascal Lardier', u'id_str': u'78607265'}, {u'indices': [93, 101], u'screen_name': u'anoizet', u'id': 312960789, u'name': u'Aline Noizet', u'id_str': u'312960789'}, {u'indices': [102, 113], u'screen_name': u'janedwelly', u'id': 108297471, u'name': u'Jane Dwelly', u'id_str': u'108297471'}, {u'indices': [114, 130], u'screen_name': u'Barry_HealthTec', u'id': 44844855, u'name': u'Barry Shrier', u'id_str': u'44844855'}, {u'indices': [131, 144], u'screen_name': u'HealthEugene', u'id': 16139549, u'name': u'Eugene Borukhovich', u'id_str': u'16139549'}, {u'indices': [145, 158], u'screen_name': u'chrispointon', u'id': 28578944, u'name': u'Chris Pointon', u'id_str': u'28578944'}, {u'indices': [159, 170], u'screen_name': u'Anniecoops', u'id': 20327119, u'name': u'Anne Cooper RN FQNI', u'id_str': u'20327119'}, {u'indices': [171, 181], u'screen_name': u'MarkDuman', u'id': 612922732, u'name': u'Mark Duman', u'id_str': u'612922732'}, {u'indices': [182, 195], u'screen_name': u'IndraJoshi10', u'id': 4876080779L, u'name': u'Indra Joshi', u'id_str': u'4876080779'}, {u'indices': [196, 200], u'screen_name': u'LFC', u'id': 19583545, u'name': u'Liverpool FC', u'id_str': u'19583545'}, {u'indices': [201, 212], u'screen_name': u'realmadrid', u'id': 14872237, u'name': u'Real Madrid C.F. \\u26bd\\ufe0f', u'id_str': u'14872237'}], u'symbols': [], u'hashtags': [], u'urls': []}, u'full_text': u'@Health2eu @boltyboy @bluetopaz @himsseurope @ChampionsLeague @lucienengelen @pascal_lardier @anoizet @janedwelly @Barry_HealthTec @HealthEugene @chrispointon @Anniecoops @MarkDuman @IndraJoshi10 @LFC @realmadrid Great suggestion!  Thank you!'}</td>\n",
       "      <td>NaN</td>\n",
       "      <td></td>\n",
       "    </tr>\n",
       "  </tbody>\n",
       "</table>\n",
       "</div>"
      ],
      "text/plain": [
       "                        created_at               name   screen_name  \\\n",
       "10  Mon May 21 05:26:15 +0000 2018  Gerson Arce        19gerson       \n",
       "13  Mon May 21 06:21:00 +0000 2018  Rana Ghosal        ranaaissance   \n",
       "16  Mon May 21 07:06:58 +0000 2018  Sebastian Yuen ツ   S3bster        \n",
       "18  Mon May 21 07:08:42 +0000 2018  Health 2.0 Europe  Health2eu      \n",
       "19  Mon May 21 07:16:37 +0000 2018  Sebastian Yuen ツ   S3bster        \n",
       "\n",
       "             id  friends  followers  listed  \\\n",
       "10  463365631.0  675      786        3        \n",
       "13  56296160.0   532      456        46       \n",
       "16  37780157.0   3136     3398       93       \n",
       "18  221140787.0  649      6188       455      \n",
       "19  37780157.0   3136     3396       93       \n",
       "\n",
       "                                                                                                                                          text  \\\n",
       "10  E L C O M A N D A N T E\\r\\r\\r\\n4⃣5⃣0⃣⚽ https://t.co/0NHlSdQLp9                                                                               \n",
       "13  @kingpatprash @ChampionsLeague @realmadrid @LFC @sportmarketing1 @Sports_Managing @kennethcortsen @AJKarg… https://t.co/gFIrSNuPJJ           \n",
       "16  @boltyboy @Health2eu @bluetopaz @himsseurope @ChampionsLeague @lucienengelen @pascal_lardier @anoizet @janedwelly… https://t.co/5AWVfVgYyy   \n",
       "18  @S3bster @boltyboy @bluetopaz @himsseurope @ChampionsLeague @lucienengelen @pascal_lardier @anoizet @janedwelly… https://t.co/ABm9ydxpR4     \n",
       "19  @Health2eu @boltyboy @bluetopaz @himsseurope @ChampionsLeague @lucienengelen @pascal_lardier @anoizet @janedwelly… https://t.co/stSG9iJKBA   \n",
       "\n",
       "                                                                                                                                                                                                                                                                                                                                                                                                                                                                                                                                                                                                                                                                                                                                                                                                                                                                                                                                                                                                                                                                                                                                                                                                                                                                                                                                                                                                                                                                                                                                                                                                                                                                                                                                                                                                                                                                                                                                                                                                                                                                                                                                                                                                                                                                                                                                                                                                                                                                                                                                                                                                                                                                                                                                                                                                                                                                                                                                                     extended_tweet  \\\n",
       "10  NaN                                                                                                                                                                                                                                                                                                                                                                                                                                                                                                                                                                                                                                                                                                                                                                                                                                                                                                                                                                                                                                                                                                                                                                                                                                                                                                                                                                                                                                                                                                                                                                                                                                                                                                                                                                                                                                                                                                                                                                                                                                                                                                                                                                                                                                                                                                                                                                                                                                                                                                                                                                                                                                                                                                                                                                                                                                                                                                                                                               \n",
       "13  {u'display_text_range': [133, 162], u'entities': {u'user_mentions': [{u'indices': [0, 13], u'screen_name': u'kingpatprash', u'id': 350920112, u'name': u'Prashant Pathare', u'id_str': u'350920112'}, {u'indices': [14, 30], u'screen_name': u'ChampionsLeague', u'id': 627673190, u'name': u'UEFA Champions League', u'id_str': u'627673190'}, {u'indices': [31, 42], u'screen_name': u'realmadrid', u'id': 14872237, u'name': u'Real Madrid C.F. \\u26bd\\ufe0f', u'id_str': u'14872237'}, {u'indices': [43, 47], u'screen_name': u'LFC', u'id': 19583545, u'name': u'Liverpool FC', u'id_str': u'19583545'}, {u'indices': [48, 64], u'screen_name': u'sportmarketing1', u'id': 27426996, u'name': u'alan seymour', u'id_str': u'27426996'}, {u'indices': [65, 81], u'screen_name': u'Sports_Managing', u'id': 873554509037015040L, u'name': u'\\xd3scar Y\\xe1\\xf1ez', u'id_str': u'873554509037015040'}, {u'indices': [82, 97], u'screen_name': u'kennethcortsen', u'id': 24509215, u'name': u'Kenneth Cortsen', u'id_str': u'24509215'}, {u'indices': [98, 105], u'screen_name': u'AJKarg', u'id': 28756684, u'name': u'Adam Karg', u'id_str': u'28756684'}, {u'indices': [106, 121], u'screen_name': u'geoffwnjwilson', u'id': 109710458, u'name': u'Geoff Wilson', u'id_str': u'109710458'}, {u'indices': [122, 132], u'screen_name': u'Lu_Class_', u'id': 2955644493L, u'name': u'\\u0141ukasz B\\u0105czek', u'id_str': u'2955644493'}], u'symbols': [], u'hashtags': [], u'urls': []}, u'full_text': u'@kingpatprash @ChampionsLeague @realmadrid @LFC @sportmarketing1 @Sports_Managing @kennethcortsen @AJKarg @geoffwnjwilson @Lu_Class_ Very interesting. Optimistic?'}                                                                                                                                                                                                                                                                                                                                                                                                                                                                                                                                                                                                                                                                                                                                                                                                                                                                                                                                                                                                                                                                                                                                                                                                                                                                                   \n",
       "16  {u'display_text_range': [196, 339], u'entities': {u'user_mentions': [{u'indices': [0, 9], u'screen_name': u'boltyboy', u'id': 1248081, u'name': u'Matthew Holt', u'id_str': u'1248081'}, {u'indices': [10, 20], u'screen_name': u'Health2eu', u'id': 221140787, u'name': u'Health 2.0 Europe', u'id_str': u'221140787'}, {u'indices': [21, 31], u'screen_name': u'bluetopaz', u'id': 1073381, u'name': u'Indu Subaiya', u'id_str': u'1073381'}, {u'indices': [32, 44], u'screen_name': u'himsseurope', u'id': 132204567, u'name': u'HIMSS Europe', u'id_str': u'132204567'}, {u'indices': [45, 61], u'screen_name': u'ChampionsLeague', u'id': 627673190, u'name': u'UEFA Champions League', u'id_str': u'627673190'}, {u'indices': [62, 76], u'screen_name': u'lucienengelen', u'id': 15123270, u'name': u'Lucien Engelen', u'id_str': u'15123270'}, {u'indices': [77, 92], u'screen_name': u'pascal_lardier', u'id': 78607265, u'name': u'Pascal Lardier', u'id_str': u'78607265'}, {u'indices': [93, 101], u'screen_name': u'anoizet', u'id': 312960789, u'name': u'Aline Noizet', u'id_str': u'312960789'}, {u'indices': [102, 113], u'screen_name': u'janedwelly', u'id': 108297471, u'name': u'Jane Dwelly', u'id_str': u'108297471'}, {u'indices': [114, 130], u'screen_name': u'Barry_HealthTec', u'id': 44844855, u'name': u'Barry Shrier', u'id_str': u'44844855'}, {u'indices': [131, 144], u'screen_name': u'HealthEugene', u'id': 16139549, u'name': u'Eugene Borukhovich', u'id_str': u'16139549'}, {u'indices': [145, 158], u'screen_name': u'chrispointon', u'id': 28578944, u'name': u'Chris Pointon', u'id_str': u'28578944'}, {u'indices': [159, 170], u'screen_name': u'Anniecoops', u'id': 20327119, u'name': u'Anne Cooper RN FQNI', u'id_str': u'20327119'}, {u'indices': [171, 181], u'screen_name': u'MarkDuman', u'id': 612922732, u'name': u'Mark Duman', u'id_str': u'612922732'}, {u'indices': [182, 195], u'screen_name': u'IndraJoshi10', u'id': 4876080779L, u'name': u'Indra Joshi', u'id_str': u'4876080779'}, {u'indices': [196, 212], u'screen_name': u'ChampionsLeague', u'id': 627673190, u'name': u'UEFA Champions League', u'id_str': u'627673190'}, {u'indices': [228, 232], u'screen_name': u'LFC', u'id': 19583545, u'name': u'Liverpool FC', u'id_str': u'19583545'}, {u'indices': [236, 247], u'screen_name': u'realmadrid', u'id': 14872237, u'name': u'Real Madrid C.F. \\u26bd\\ufe0f', u'id_str': u'14872237'}], u'symbols': [], u'hashtags': [{u'indices': [327, 337], u'text': u'PinkSocks'}], u'urls': []}, u'full_text': u'@boltyboy @Health2eu @bluetopaz @himsseurope @ChampionsLeague @lucienengelen @pascal_lardier @anoizet @janedwelly @Barry_HealthTec @HealthEugene @chrispointon @Anniecoops @MarkDuman @IndraJoshi10 @ChampionsLeague Final features @LFC vs @realmadrid! Who will locals in Barcelona support? \\r\\r\\r\\n\\r\\r\\r\\nAny hotel tips? \\r\\r\\r\\n\\r\\r\\r\\nWill be bringing my #PinkSocks!!'}   \n",
       "18  {u'display_text_range': [211, 273], u'entities': {u'user_mentions': [{u'indices': [0, 8], u'screen_name': u'S3bster', u'id': 37780157, u'name': u'Sebastian Yuen \\u30c4', u'id_str': u'37780157'}, {u'indices': [9, 18], u'screen_name': u'boltyboy', u'id': 1248081, u'name': u'Matthew Holt', u'id_str': u'1248081'}, {u'indices': [19, 29], u'screen_name': u'bluetopaz', u'id': 1073381, u'name': u'Indu Subaiya', u'id_str': u'1073381'}, {u'indices': [30, 42], u'screen_name': u'himsseurope', u'id': 132204567, u'name': u'HIMSS Europe', u'id_str': u'132204567'}, {u'indices': [43, 59], u'screen_name': u'ChampionsLeague', u'id': 627673190, u'name': u'UEFA Champions League', u'id_str': u'627673190'}, {u'indices': [60, 74], u'screen_name': u'lucienengelen', u'id': 15123270, u'name': u'Lucien Engelen', u'id_str': u'15123270'}, {u'indices': [75, 90], u'screen_name': u'pascal_lardier', u'id': 78607265, u'name': u'Pascal Lardier', u'id_str': u'78607265'}, {u'indices': [91, 99], u'screen_name': u'anoizet', u'id': 312960789, u'name': u'Aline Noizet', u'id_str': u'312960789'}, {u'indices': [100, 111], u'screen_name': u'janedwelly', u'id': 108297471, u'name': u'Jane Dwelly', u'id_str': u'108297471'}, {u'indices': [112, 128], u'screen_name': u'Barry_HealthTec', u'id': 44844855, u'name': u'Barry Shrier', u'id_str': u'44844855'}, {u'indices': [129, 142], u'screen_name': u'HealthEugene', u'id': 16139549, u'name': u'Eugene Borukhovich', u'id_str': u'16139549'}, {u'indices': [143, 156], u'screen_name': u'chrispointon', u'id': 28578944, u'name': u'Chris Pointon', u'id_str': u'28578944'}, {u'indices': [157, 168], u'screen_name': u'Anniecoops', u'id': 20327119, u'name': u'Anne Cooper RN FQNI', u'id_str': u'20327119'}, {u'indices': [169, 179], u'screen_name': u'MarkDuman', u'id': 612922732, u'name': u'Mark Duman', u'id_str': u'612922732'}, {u'indices': [180, 193], u'screen_name': u'IndraJoshi10', u'id': 4876080779L, u'name': u'Indra Joshi', u'id_str': u'4876080779'}, {u'indices': [194, 198], u'screen_name': u'LFC', u'id': 19583545, u'name': u'Liverpool FC', u'id_str': u'19583545'}, {u'indices': [199, 210], u'screen_name': u'realmadrid', u'id': 14872237, u'name': u'Real Madrid C.F. \\u26bd\\ufe0f', u'id_str': u'14872237'}], u'symbols': [], u'hashtags': [], u'urls': []}, u'full_text': u'@S3bster @boltyboy @bluetopaz @himsseurope @ChampionsLeague @lucienengelen @pascal_lardier @anoizet @janedwelly @Barry_HealthTec @HealthEugene @chrispointon @Anniecoops @MarkDuman @IndraJoshi10 @LFC @realmadrid I would try an airbnb :) most hotels are running low on rooms!'}                                                                                                                                                                                                                                                                                              \n",
       "19  {u'display_text_range': [213, 242], u'entities': {u'user_mentions': [{u'indices': [0, 10], u'screen_name': u'Health2eu', u'id': 221140787, u'name': u'Health 2.0 Europe', u'id_str': u'221140787'}, {u'indices': [11, 20], u'screen_name': u'boltyboy', u'id': 1248081, u'name': u'Matthew Holt', u'id_str': u'1248081'}, {u'indices': [21, 31], u'screen_name': u'bluetopaz', u'id': 1073381, u'name': u'Indu Subaiya', u'id_str': u'1073381'}, {u'indices': [32, 44], u'screen_name': u'himsseurope', u'id': 132204567, u'name': u'HIMSS Europe', u'id_str': u'132204567'}, {u'indices': [45, 61], u'screen_name': u'ChampionsLeague', u'id': 627673190, u'name': u'UEFA Champions League', u'id_str': u'627673190'}, {u'indices': [62, 76], u'screen_name': u'lucienengelen', u'id': 15123270, u'name': u'Lucien Engelen', u'id_str': u'15123270'}, {u'indices': [77, 92], u'screen_name': u'pascal_lardier', u'id': 78607265, u'name': u'Pascal Lardier', u'id_str': u'78607265'}, {u'indices': [93, 101], u'screen_name': u'anoizet', u'id': 312960789, u'name': u'Aline Noizet', u'id_str': u'312960789'}, {u'indices': [102, 113], u'screen_name': u'janedwelly', u'id': 108297471, u'name': u'Jane Dwelly', u'id_str': u'108297471'}, {u'indices': [114, 130], u'screen_name': u'Barry_HealthTec', u'id': 44844855, u'name': u'Barry Shrier', u'id_str': u'44844855'}, {u'indices': [131, 144], u'screen_name': u'HealthEugene', u'id': 16139549, u'name': u'Eugene Borukhovich', u'id_str': u'16139549'}, {u'indices': [145, 158], u'screen_name': u'chrispointon', u'id': 28578944, u'name': u'Chris Pointon', u'id_str': u'28578944'}, {u'indices': [159, 170], u'screen_name': u'Anniecoops', u'id': 20327119, u'name': u'Anne Cooper RN FQNI', u'id_str': u'20327119'}, {u'indices': [171, 181], u'screen_name': u'MarkDuman', u'id': 612922732, u'name': u'Mark Duman', u'id_str': u'612922732'}, {u'indices': [182, 195], u'screen_name': u'IndraJoshi10', u'id': 4876080779L, u'name': u'Indra Joshi', u'id_str': u'4876080779'}, {u'indices': [196, 200], u'screen_name': u'LFC', u'id': 19583545, u'name': u'Liverpool FC', u'id_str': u'19583545'}, {u'indices': [201, 212], u'screen_name': u'realmadrid', u'id': 14872237, u'name': u'Real Madrid C.F. \\u26bd\\ufe0f', u'id_str': u'14872237'}], u'symbols': [], u'hashtags': [], u'urls': []}, u'full_text': u'@Health2eu @boltyboy @bluetopaz @himsseurope @ChampionsLeague @lucienengelen @pascal_lardier @anoizet @janedwelly @Barry_HealthTec @HealthEugene @chrispointon @Anniecoops @MarkDuman @IndraJoshi10 @LFC @realmadrid Great suggestion!  Thank you!'}                                                                                                                                                                                                                                                                                                                          \n",
       "\n",
       "    ideo_score clean_text  \n",
       "10 NaN                     \n",
       "13 NaN                     \n",
       "16 NaN                     \n",
       "18 NaN                     \n",
       "19 NaN                     "
      ]
     },
     "execution_count": 16,
     "metadata": {},
     "output_type": "execute_result"
    }
   ],
   "source": [
    "clean_madrid['clean_text'].replace('', np.nan, inplace=True)\n",
    "print(clean_madrid['clean_text'].isna().sum())\n",
    "\n",
    "df_madrid.iloc[clean_madrid[clean_madrid.isna().any(axis=1)].index,:].head()"
   ]
  },
  {
   "cell_type": "code",
   "execution_count": 17,
   "metadata": {},
   "outputs": [],
   "source": [
    "clean_madrid.dropna(inplace=True)\n",
    "clean_madrid.reset_index(drop=True,inplace=True)"
   ]
  },
  {
   "cell_type": "code",
   "execution_count": 18,
   "metadata": {},
   "outputs": [
    {
     "name": "stdout",
     "output_type": "stream",
     "text": [
      "<class 'pandas.core.frame.DataFrame'>\n",
      "RangeIndex: 31233 entries, 0 to 31232\n",
      "Data columns (total 2 columns):\n",
      "created_at    31233 non-null object\n",
      "clean_text    31233 non-null object\n",
      "dtypes: object(2)\n",
      "memory usage: 488.1+ KB\n",
      "None\n"
     ]
    },
    {
     "data": {
      "text/html": [
       "<div>\n",
       "<style scoped>\n",
       "    .dataframe tbody tr th:only-of-type {\n",
       "        vertical-align: middle;\n",
       "    }\n",
       "\n",
       "    .dataframe tbody tr th {\n",
       "        vertical-align: top;\n",
       "    }\n",
       "\n",
       "    .dataframe thead th {\n",
       "        text-align: right;\n",
       "    }\n",
       "</style>\n",
       "<table border=\"1\" class=\"dataframe\">\n",
       "  <thead>\n",
       "    <tr style=\"text-align: right;\">\n",
       "      <th></th>\n",
       "      <th>created_at</th>\n",
       "      <th>clean_text</th>\n",
       "    </tr>\n",
       "  </thead>\n",
       "  <tbody>\n",
       "    <tr>\n",
       "      <th>0</th>\n",
       "      <td>Mon May 21 01:44:58 +0000 2018</td>\n",
       "      <td>countdown final kyiv russia vs</td>\n",
       "    </tr>\n",
       "    <tr>\n",
       "      <th>1</th>\n",
       "      <td>Mon May 21 04:01:00 +0000 2018</td>\n",
       "      <td>llega los goles con el</td>\n",
       "    </tr>\n",
       "    <tr>\n",
       "      <th>2</th>\n",
       "      <td>Mon May 21 04:08:40 +0000 2018</td>\n",
       "      <td>llega los goles con el</td>\n",
       "    </tr>\n",
       "    <tr>\n",
       "      <th>3</th>\n",
       "      <td>Mon May 21 04:38:32 +0000 2018</td>\n",
       "      <td>well ended seasons campaign way started it shitty hope zidane</td>\n",
       "    </tr>\n",
       "    <tr>\n",
       "      <th>4</th>\n",
       "      <td>Mon May 21 04:52:52 +0000 2018</td>\n",
       "      <td>yall late</td>\n",
       "    </tr>\n",
       "  </tbody>\n",
       "</table>\n",
       "</div>"
      ],
      "text/plain": [
       "                       created_at  \\\n",
       "0  Mon May 21 01:44:58 +0000 2018   \n",
       "1  Mon May 21 04:01:00 +0000 2018   \n",
       "2  Mon May 21 04:08:40 +0000 2018   \n",
       "3  Mon May 21 04:38:32 +0000 2018   \n",
       "4  Mon May 21 04:52:52 +0000 2018   \n",
       "\n",
       "                                                      clean_text  \n",
       "0  countdown final kyiv russia vs                                 \n",
       "1  llega los goles con el                                         \n",
       "2  llega los goles con el                                         \n",
       "3  well ended seasons campaign way started it shitty hope zidane  \n",
       "4  yall late                                                      "
      ]
     },
     "execution_count": 18,
     "metadata": {},
     "output_type": "execute_result"
    }
   ],
   "source": [
    "print(clean_madrid.info())\n",
    "clean_madrid.head()"
   ]
  },
  {
   "cell_type": "markdown",
   "metadata": {},
   "source": [
    "As mentioned ealier, the data was collected over four weeks since from 21 May and end at 16 June 2018 at pre-, mid- and post-event. Now I will split the texts according to the date. It can be found at the new column 'period': \n",
    "\n",
    "- 1: pre-event, 2018-05-21 - 2018-05-25\n",
    "- 2: mid-event, 2018-05-26\n",
    "- 3: post-event (week one), 2018-05-27 - 2018-06-03\n",
    "- 4: post-event (week two), 2018-06-04 - 2018-06-10\n",
    "- 5: post-event (week three), 2018-06-11 - 2018-06-16"
   ]
  },
  {
   "cell_type": "markdown",
   "metadata": {},
   "source": [
    "Change the datetime format and keep the date part only (e.g., change 'Mon May 21 01:44:58 +0000 2018' to '2018-05-21')"
   ]
  },
  {
   "cell_type": "code",
   "execution_count": 19,
   "metadata": {},
   "outputs": [],
   "source": [
    "clean_madrid['created_at'] = pd.to_datetime(clean_madrid.created_at).dt.date\n",
    "clean_madrid['created_at'] = pd.to_datetime(clean_madrid.created_at, errors='coerce')"
   ]
  },
  {
   "cell_type": "markdown",
   "metadata": {},
   "source": [
    "Generate a new column named 'period' and set the column values based on dates as descripted above. Save the cleaning texts with five-periods to a new dataset 'clean_madrid.csv'"
   ]
  },
  {
   "cell_type": "code",
   "execution_count": 21,
   "metadata": {},
   "outputs": [
    {
     "data": {
      "text/html": [
       "<div>\n",
       "<style scoped>\n",
       "    .dataframe tbody tr th:only-of-type {\n",
       "        vertical-align: middle;\n",
       "    }\n",
       "\n",
       "    .dataframe tbody tr th {\n",
       "        vertical-align: top;\n",
       "    }\n",
       "\n",
       "    .dataframe thead th {\n",
       "        text-align: right;\n",
       "    }\n",
       "</style>\n",
       "<table border=\"1\" class=\"dataframe\">\n",
       "  <thead>\n",
       "    <tr style=\"text-align: right;\">\n",
       "      <th></th>\n",
       "      <th>clean_text</th>\n",
       "      <th>period</th>\n",
       "      <th>team</th>\n",
       "    </tr>\n",
       "  </thead>\n",
       "  <tbody>\n",
       "    <tr>\n",
       "      <th>0</th>\n",
       "      <td>countdown final kyiv russia vs</td>\n",
       "      <td>pre-event</td>\n",
       "      <td>RMadrid</td>\n",
       "    </tr>\n",
       "    <tr>\n",
       "      <th>1</th>\n",
       "      <td>llega los goles con el</td>\n",
       "      <td>pre-event</td>\n",
       "      <td>RMadrid</td>\n",
       "    </tr>\n",
       "    <tr>\n",
       "      <th>2</th>\n",
       "      <td>llega los goles con el</td>\n",
       "      <td>pre-event</td>\n",
       "      <td>RMadrid</td>\n",
       "    </tr>\n",
       "    <tr>\n",
       "      <th>3</th>\n",
       "      <td>well ended seasons campaign way started it shitty hope zidane</td>\n",
       "      <td>pre-event</td>\n",
       "      <td>RMadrid</td>\n",
       "    </tr>\n",
       "    <tr>\n",
       "      <th>4</th>\n",
       "      <td>yall late</td>\n",
       "      <td>pre-event</td>\n",
       "      <td>RMadrid</td>\n",
       "    </tr>\n",
       "  </tbody>\n",
       "</table>\n",
       "</div>"
      ],
      "text/plain": [
       "                                                      clean_text     period  \\\n",
       "0  countdown final kyiv russia vs                                 pre-event   \n",
       "1  llega los goles con el                                         pre-event   \n",
       "2  llega los goles con el                                         pre-event   \n",
       "3  well ended seasons campaign way started it shitty hope zidane  pre-event   \n",
       "4  yall late                                                      pre-event   \n",
       "\n",
       "      team  \n",
       "0  RMadrid  \n",
       "1  RMadrid  \n",
       "2  RMadrid  \n",
       "3  RMadrid  \n",
       "4  RMadrid  "
      ]
     },
     "execution_count": 21,
     "metadata": {},
     "output_type": "execute_result"
    }
   ],
   "source": [
    "clean_madrid['period'] = ' '\n",
    " \n",
    "index1 = clean_madrid.loc[(clean_madrid['created_at'] >= '2018-05-21') & (clean_madrid['created_at'] <= '2018-05-25')].index\n",
    "index2 = clean_madrid.loc[clean_madrid['created_at'] == '2018-05-26'].index\n",
    "index3 = clean_madrid.loc[(clean_madrid['created_at'] >= '2018-05-27') & (clean_madrid['created_at'] <= '2018-06-03')].index\n",
    "index4 = clean_madrid.loc[(clean_madrid['created_at'] >= '2018-06-04') & (clean_madrid['created_at'] <= '2018-06-10')].index\n",
    "index5 = clean_madrid.loc[(clean_madrid['created_at'] >= '2018-06-11') & (clean_madrid['created_at'] <= '2018-06-16')].index\n",
    " \n",
    "clean_madrid.loc[index1, 'period'] = 'pre-event'\n",
    "clean_madrid.loc[index2, 'period'] = 'mid-event'\n",
    "clean_madrid.loc[index3, 'period'] = 'post-event-week1'\n",
    "clean_madrid.loc[index4, 'period'] = 'post-event-week2'\n",
    "clean_madrid.loc[index5, 'period'] = 'post-event-week3'\n",
    "\n",
    "clean_madrid['team'] = 'RMadrid'\n",
    "clean_madrid = clean_madrid.drop(columns = ['created_at'])\n",
    "\n",
    "clean_madrid.head()\n",
    "clean_madrid.to_csv('clean_madrid.csv')"
   ]
  },
  {
   "cell_type": "markdown",
   "metadata": {},
   "source": [
    "Apply text cleaning function to Liverpool dateset and save as clean_liverp.csv"
   ]
  },
  {
   "cell_type": "code",
   "execution_count": 24,
   "metadata": {},
   "outputs": [
    {
     "name": "stdout",
     "output_type": "stream",
     "text": [
      "<class 'pandas.core.frame.DataFrame'>\n",
      "RangeIndex: 145504 entries, 0 to 145503\n",
      "Data columns (total 3 columns):\n",
      "clean_text    135076 non-null object\n",
      "period        145504 non-null object\n",
      "team          145504 non-null object\n",
      "dtypes: object(3)\n",
      "memory usage: 3.3+ MB\n",
      "None\n"
     ]
    },
    {
     "data": {
      "text/html": [
       "<div>\n",
       "<style scoped>\n",
       "    .dataframe tbody tr th:only-of-type {\n",
       "        vertical-align: middle;\n",
       "    }\n",
       "\n",
       "    .dataframe tbody tr th {\n",
       "        vertical-align: top;\n",
       "    }\n",
       "\n",
       "    .dataframe thead th {\n",
       "        text-align: right;\n",
       "    }\n",
       "</style>\n",
       "<table border=\"1\" class=\"dataframe\">\n",
       "  <thead>\n",
       "    <tr style=\"text-align: right;\">\n",
       "      <th></th>\n",
       "      <th>clean_text</th>\n",
       "      <th>period</th>\n",
       "      <th>team</th>\n",
       "    </tr>\n",
       "  </thead>\n",
       "  <tbody>\n",
       "    <tr>\n",
       "      <th>0</th>\n",
       "      <td>sad news justify anybody religious may ask</td>\n",
       "      <td>pre-event</td>\n",
       "      <td>Liverpool</td>\n",
       "    </tr>\n",
       "    <tr>\n",
       "      <th>1</th>\n",
       "      <td>why would want de vrij or yaya toure</td>\n",
       "      <td>pre-event</td>\n",
       "      <td>Liverpool</td>\n",
       "    </tr>\n",
       "    <tr>\n",
       "      <th>2</th>\n",
       "      <td>follow</td>\n",
       "      <td>pre-event</td>\n",
       "      <td>Liverpool</td>\n",
       "    </tr>\n",
       "    <tr>\n",
       "      <th>3</th>\n",
       "      <td>he already signed for inter</td>\n",
       "      <td>pre-event</td>\n",
       "      <td>Liverpool</td>\n",
       "    </tr>\n",
       "    <tr>\n",
       "      <th>4</th>\n",
       "      <td>de vrij match fixed inters win could play cl doubt wants lfc</td>\n",
       "      <td>pre-event</td>\n",
       "      <td>Liverpool</td>\n",
       "    </tr>\n",
       "  </tbody>\n",
       "</table>\n",
       "</div>"
      ],
      "text/plain": [
       "                                                     clean_text     period  \\\n",
       "0  sad news justify anybody religious may ask                    pre-event   \n",
       "1  why would want de vrij or yaya toure                          pre-event   \n",
       "2  follow                                                        pre-event   \n",
       "3  he already signed for inter                                   pre-event   \n",
       "4  de vrij match fixed inters win could play cl doubt wants lfc  pre-event   \n",
       "\n",
       "        team  \n",
       "0  Liverpool  \n",
       "1  Liverpool  \n",
       "2  Liverpool  \n",
       "3  Liverpool  \n",
       "4  Liverpool  "
      ]
     },
     "execution_count": 24,
     "metadata": {},
     "output_type": "execute_result"
    }
   ],
   "source": [
    "print(clean_liverp.info())\n",
    "clean_liverp.head()\n",
    "\n",
    "clean_liverp = to_csv('clean_liverp.csv')"
   ]
  }
 ],
 "metadata": {
  "kernelspec": {
   "display_name": "Python 2",
   "language": "python",
   "name": "python2"
  },
  "language_info": {
   "codemirror_mode": {
    "name": "ipython",
    "version": 2
   },
   "file_extension": ".py",
   "mimetype": "text/x-python",
   "name": "python",
   "nbconvert_exporter": "python",
   "pygments_lexer": "ipython2",
   "version": "2.7.14"
  }
 },
 "nbformat": 4,
 "nbformat_minor": 2
}
